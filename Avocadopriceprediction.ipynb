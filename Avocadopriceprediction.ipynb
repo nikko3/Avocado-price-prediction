{
  "nbformat": 4,
  "nbformat_minor": 0,
  "metadata": {
    "colab": {
      "provenance": []
    },
    "kernelspec": {
      "name": "python3",
      "display_name": "Python 3"
    },
    "language_info": {
      "name": "python"
    }
  },
  "cells": [
    {
      "cell_type": "code",
      "execution_count": 2,
      "metadata": {
        "id": "DdiDLXwQJMey"
      },
      "outputs": [],
      "source": [
        "import numpy as np\n",
        "import pandas as pd\n",
        "import seaborn as sns \n",
        "\n",
        "import matplotlib.pyplot as plt\n",
        "import seaborn as sns\n",
        "%matplotlib inline\n",
        "\n",
        "from sklearn.pipeline import Pipeline\n",
        "from sklearn.preprocessing import StandardScaler\n",
        "from sklearn.model_selection import train_test_split, cross_val_score\n",
        "import pandas_profiling as pp"
      ]
    },
    {
      "cell_type": "code",
      "source": [
        "# Input data files are available in the read-only \"../input/\" directory\n",
        "# For example, running this (by clicking run or pressing Shift+Enter) will list all files under the input directory\n",
        "\n",
        "import os\n",
        "for dirname, _, filenames in os.walk('/kaggle/input'):\n",
        "    for filename in filenames:\n",
        "        print(os.path.join(dirname, filename))\n",
        "\n",
        "# You can write up to 20GB to the current directory (/kaggle/working/) that gets preserved as output when you create a version using \"Save & Run All\" \n",
        "# You can also write temporary files to /kaggle/temp/, but they won't be saved outside of the current session"
      ],
      "metadata": {
        "id": "O4OGd5tvKFvJ"
      },
      "execution_count": 3,
      "outputs": []
    },
    {
      "cell_type": "code",
      "source": [
        "df = pd.read_csv(\"C:\\Users\\bhato\\Downloads\\avocado.csv\")"
      ],
      "metadata": {
        "colab": {
          "base_uri": "https://localhost:8080/",
          "height": 130
        },
        "id": "W64KzrxGKV1a",
        "outputId": "f8b5c591-a0bb-4129-9c43-80b37e4c83e6"
      },
      "execution_count": 4,
      "outputs": [
        {
          "output_type": "error",
          "ename": "SyntaxError",
          "evalue": "ignored",
          "traceback": [
            "\u001b[0;36m  File \u001b[0;32m\"<ipython-input-4-41558eaf4e10>\"\u001b[0;36m, line \u001b[0;32m1\u001b[0m\n\u001b[0;31m    df = pd.read_csv(\"C:\\Users\\bhato\\Downloads\\avocado.csv\")\u001b[0m\n\u001b[0m                     ^\u001b[0m\n\u001b[0;31mSyntaxError\u001b[0m\u001b[0;31m:\u001b[0m (unicode error) 'unicodeescape' codec can't decode bytes in position 2-3: truncated \\UXXXXXXXX escape\n"
          ]
        }
      ]
    },
    {
      "cell_type": "markdown",
      "source": [
        "DATA OVERVIEW"
      ],
      "metadata": {
        "id": "KAdNNVrRVHWb"
      }
    },
    {
      "cell_type": "code",
      "source": [
        "pp.ProfileReport(df)"
      ],
      "metadata": {
        "colab": {
          "base_uri": "https://localhost:8080/",
          "height": 165
        },
        "id": "Z2GL7BnrKWEg",
        "outputId": "487a04db-3b7b-4c46-82f6-a51daa34b456"
      },
      "execution_count": 5,
      "outputs": [
        {
          "output_type": "error",
          "ename": "NameError",
          "evalue": "ignored",
          "traceback": [
            "\u001b[0;31m---------------------------------------------------------------------------\u001b[0m",
            "\u001b[0;31mNameError\u001b[0m                                 Traceback (most recent call last)",
            "\u001b[0;32m<ipython-input-5-8c43c9c05b79>\u001b[0m in \u001b[0;36m<module>\u001b[0;34m\u001b[0m\n\u001b[0;32m----> 1\u001b[0;31m \u001b[0mpp\u001b[0m\u001b[0;34m.\u001b[0m\u001b[0mProfileReport\u001b[0m\u001b[0;34m(\u001b[0m\u001b[0mdf\u001b[0m\u001b[0;34m)\u001b[0m\u001b[0;34m\u001b[0m\u001b[0;34m\u001b[0m\u001b[0m\n\u001b[0m",
            "\u001b[0;31mNameError\u001b[0m: name 'df' is not defined"
          ]
        }
      ]
    },
    {
      "cell_type": "markdown",
      "source": [
        "DATA PREPROCESSING"
      ],
      "metadata": {
        "id": "Rx6OR4CIUy17"
      }
    },
    {
      "cell_type": "code",
      "source": [
        "df = df.drop('Unnamed: 0', axis=1)"
      ],
      "metadata": {
        "id": "Vkk2fGjDKWHR"
      },
      "execution_count": null,
      "outputs": []
    },
    {
      "cell_type": "code",
      "source": [
        "df"
      ],
      "metadata": {
        "id": "Jv2NkofDKWKm"
      },
      "execution_count": null,
      "outputs": []
    },
    {
      "cell_type": "markdown",
      "source": [
        "As there are two types of avocados, let's see the price distribution of each one"
      ],
      "metadata": {
        "id": "L-7W-Ro-VUDM"
      }
    },
    {
      "cell_type": "code",
      "source": [
        "import plotly.express as px\n",
        "#conventional = df[df['type'] == 'conventional']\n",
        "#organic = df[df['type'] == 'organic']\n",
        "\n",
        "fig = px.histogram(df, x='AveragePrice', color='type',\n",
        "                   marginal='box', # or violin, rug\n",
        "                   hover_data=df.columns)\n",
        "\n",
        "\n",
        "fig.show()"
      ],
      "metadata": {
        "id": "Ac0bfcSIKWNu"
      },
      "execution_count": null,
      "outputs": []
    },
    {
      "cell_type": "markdown",
      "source": [
        "So, on average, organic avocados are more expensive (as expected).\n",
        "\n",
        "Let's also check whether geography influences the price.\n",
        "\n"
      ],
      "metadata": {
        "id": "t1drvbGnVZVN"
      }
    },
    {
      "cell_type": "code",
      "source": [
        "fig = px.box(df, x='region', y='AveragePrice')\n",
        "fig.show()"
      ],
      "metadata": {
        "id": "qr_YGyhOKWQr"
      },
      "execution_count": null,
      "outputs": []
    },
    {
      "cell_type": "markdown",
      "source": [
        "Correlation matrix"
      ],
      "metadata": {
        "id": "EYTWqP2FVd-a"
      }
    },
    {
      "cell_type": "code",
      "source": [
        "corr = df.corr()\n",
        "corr\n",
        "\n",
        "f, ax = plt.subplots(nrows=1, ncols=1, figsize=(12, 10))\n",
        "ax.set_title('Correlation Matrix', fontsize=16)\n",
        "\n",
        "sns.heatmap(corr, vmin=-1, vmax=1, cmap='viridis', annot=True)"
      ],
      "metadata": {
        "id": "IblymZjgKWTS"
      },
      "execution_count": null,
      "outputs": []
    },
    {
      "cell_type": "markdown",
      "source": [
        "Checking for missing & duplicated data."
      ],
      "metadata": {
        "id": "BnCF6ENJVinx"
      }
    },
    {
      "cell_type": "code",
      "source": [
        "df.isnull().any()"
      ],
      "metadata": {
        "id": "nhxmUUomKWWf"
      },
      "execution_count": null,
      "outputs": []
    },
    {
      "cell_type": "code",
      "source": [
        "df.duplicated().any()"
      ],
      "metadata": {
        "id": "-Qk8JQwmKWZE"
      },
      "execution_count": null,
      "outputs": []
    },
    {
      "cell_type": "code",
      "source": [
        "df"
      ],
      "metadata": {
        "id": "dAf-KrszKWb9"
      },
      "execution_count": null,
      "outputs": []
    },
    {
      "cell_type": "markdown",
      "source": [
        "Modeling"
      ],
      "metadata": {
        "id": "dglG--NgVwzZ"
      }
    },
    {
      "cell_type": "code",
      "source": [
        "df1 = df.copy()\n",
        "\n",
        "#Introducing new feature = 'season'\n",
        "\n",
        "\n",
        "df1['Date'] = pd.to_datetime(df1['Date'])\n",
        "df1['month'] = df1['Date'].dt.month\n",
        "\n",
        "conditions = [(df1['month'].between(3,5,inclusive=True)),\n",
        "           (df1['month'].between(6,8,inclusive=True)),\n",
        "           (df1['month'].between(9,11,inclusive=True)),\n",
        "           (df1['month'].between(12,2,inclusive=True))]\n",
        "\n",
        "values = [0,1,2,3]\n",
        "#spring = 0, summer = 1, fall = 2, winter = 3\n",
        "df1['seasons'] = np.select(conditions, values)\n",
        "\n",
        "\n",
        "#encoding labels for 'type'\n",
        "\n",
        "from sklearn.preprocessing import LabelEncoder\n",
        "le = LabelEncoder()\n",
        "df1['type'] = le.fit_transform(df1['type'])\n",
        "\n",
        "# and region (One Hot Encoding instead of labelizing)\n",
        "ohe = pd.get_dummies(data=df1, columns=['region'])\n",
        "\n",
        "\n",
        "X = ohe.drop(['AveragePrice','Date','4046','4225','4770','Small Bags','Large Bags','XLarge Bags'], axis=1)\n",
        "y = df1['AveragePrice']"
      ],
      "metadata": {
        "id": "OcBeHNAbKWei"
      },
      "execution_count": null,
      "outputs": []
    },
    {
      "cell_type": "code",
      "source": [
        "X_train, X_test, y_train, y_test = train_test_split(X, y, test_size=0.33, random_state=0)"
      ],
      "metadata": {
        "id": "c7NmvomnKWhW"
      },
      "execution_count": null,
      "outputs": []
    },
    {
      "cell_type": "code",
      "source": [
        "X_train"
      ],
      "metadata": {
        "id": "BZs3RuRZKWkP"
      },
      "execution_count": null,
      "outputs": []
    },
    {
      "cell_type": "code",
      "source": [
        "from sklearn.linear_model import LinearRegression\n",
        "from sklearn.metrics import r2_score\n",
        "\n",
        "pipe0 = Pipeline([('scaler', StandardScaler()), ('lr', LinearRegression())])\n",
        "pipe0.fit(X_train, y_train)\n",
        "y_pred0 = pipe0.predict(X_test)\n",
        "r2_score(y_test, y_pred0)"
      ],
      "metadata": {
        "id": "AV5W3E5aKWnb"
      },
      "execution_count": null,
      "outputs": []
    },
    {
      "cell_type": "code",
      "source": [
        "from sklearn.ensemble import RandomForestRegressor\n",
        "from sklearn.metrics import r2_score\n",
        "\n",
        "pipe = Pipeline([('scaler', StandardScaler()), ('rf', RandomForestRegressor())])\n",
        "pipe.fit(X_train, y_train)\n",
        "y_pred = pipe.predict(X_test)\n",
        "r2_score(y_test, y_pred)"
      ],
      "metadata": {
        "id": "eVzWo7PMKWp9"
      },
      "execution_count": null,
      "outputs": []
    },
    {
      "cell_type": "code",
      "source": [
        "from xgboost import XGBRegressor\n",
        "\n",
        "pipe2 = Pipeline([('scaler', StandardScaler()), ('xgb', XGBRegressor())])\n",
        "pipe2.fit(X_train, y_train)\n",
        "y_pred2 = pipe2.predict(X_test)\n",
        "r2_score(y_test, y_pred2)"
      ],
      "metadata": {
        "id": "oqULXQBgKWsv"
      },
      "execution_count": null,
      "outputs": []
    },
    {
      "cell_type": "markdown",
      "source": [
        "Apparently, the best model is the one with boosting (XGB)."
      ],
      "metadata": {
        "id": "hFXa2iAnV3Oe"
      }
    },
    {
      "cell_type": "code",
      "source": [
        "pd.DataFrame(pipe2['xgb'].feature_importances_, index=X_train.columns, columns=['Feature Importances'])"
      ],
      "metadata": {
        "id": "9ym8yf4pKWvq"
      },
      "execution_count": null,
      "outputs": []
    },
    {
      "cell_type": "markdown",
      "source": [
        "So, avocado type accounts for 86% of the price prediction.\n",
        "\n",
        "PLEASE NOTE! This is a historical analysis, and does not actually produce real-life value for the avocado market analysis. A predictory model will be built further on.\n",
        "\n",
        "We have a plenty of features now, due to the presence of dummies. Let's see if we can do dimensiality reduction and preserve the R2 score."
      ],
      "metadata": {
        "id": "RM4gnxesWARl"
      }
    },
    {
      "cell_type": "code",
      "source": [
        "from sklearn.decomposition import PCA\n",
        "pca = PCA(n_components=6)\n",
        "\n",
        "X_train_cut, X_test_cut, y_train_cut, y_test_cut = train_test_split(pca.fit_transform(X), y, test_size=0.33, random_state=0)\n",
        "\n",
        "\n",
        "from xgboost import XGBRegressor\n",
        "\n",
        "pipe3 = Pipeline([('scaler', StandardScaler()), ('xgb', XGBRegressor())])\n",
        "pipe3.fit(X_train_cut, y_train_cut)\n",
        "y_pred3 = pipe3.predict(X_test_cut)\n",
        "r2_score(y_test_cut, y_pred3)"
      ],
      "metadata": {
        "id": "iLq3PAIvKWyP"
      },
      "execution_count": null,
      "outputs": []
    },
    {
      "cell_type": "markdown",
      "source": [
        "So, by reducing the number of features we sacrifice ~15% R2. Luckily, the dataset is not that huge and we have the option to stay with the initial number of feature. Anyway, PCA is a very good exercise\n",
        "\n",
        "Prediction for the next year\n",
        "For this part of the notebook, I will use 2 techniques:\n",
        "\n",
        "Build a simple linear model using scipy.\n",
        "Use FB prophet package and see what the result will be.\n",
        "Building a simple linear model"
      ],
      "metadata": {
        "id": "5rgaIrRUWLld"
      }
    },
    {
      "cell_type": "code",
      "source": [
        "df = pd.read_csv(\"C:\\Users\\bhato\\Downloads\\avocado.csv\")"
      ],
      "metadata": {
        "id": "QdTOyUAfKW1I"
      },
      "execution_count": null,
      "outputs": []
    },
    {
      "cell_type": "code",
      "source": [
        "df2 = df[df['region'] == 'California'].drop(['Date','region'], axis=1)\n",
        "df2 = df2[df['type'] == 'organic']"
      ],
      "metadata": {
        "id": "-z78Q5_PKW3d"
      },
      "execution_count": null,
      "outputs": []
    },
    {
      "cell_type": "code",
      "source": [
        "from scipy import stats\n",
        "\n",
        "X_lin = df2['year'].reset_index(drop=True)\n",
        "y_lin = df2['AveragePrice'].reset_index(drop=True)\n",
        "\n",
        "\n",
        "slope, intercept, r, p, std_err = stats.linregress(X_lin, y_lin) # scipy\n",
        "\n",
        "def prediction(x):\n",
        "  return slope * x + intercept\n",
        "\n",
        "name = 'Avg. Avocado price (organic) in 2019'\n",
        "md = list(map(prediction, X_lin)) # scipy\n",
        "\n",
        "X_pred_lin = 2019\n",
        "y_pred_lin = prediction(X_pred_lin)\n",
        "\n",
        "print('Predicted avicado price in California in 2019 is: %f USD' % y_pred_lin)\n",
        "\n",
        "X_lin2 = X_lin.append(pd.Series(X_pred_lin))\n",
        "y_lin2 = y_lin.append(pd.Series(y_pred_lin))\n",
        "md2 = list(map(prediction, X_lin2)) \n",
        "\n",
        "plt.scatter(X_lin2, y_lin2) # Scatter Plot\n",
        "plt.plot(X_lin2, md2, color='green')\n",
        "plt.xticks(np.arange(min(X_lin2), max(X_lin2+1), 1.0))\n",
        "plt.show()\n",
        "\n",
        "#plt.ylim(ymin=0) # starts at zero\n",
        "#plt.legend(['Model Prediction using Linear Regression', 'Avocado Prices (2015-2018)'])\n",
        "#plt.show()"
      ],
      "metadata": {
        "id": "UwbMRrs_LXEr"
      },
      "execution_count": null,
      "outputs": []
    },
    {
      "cell_type": "markdown",
      "source": [
        "Using FB Prophet"
      ],
      "metadata": {
        "id": "bJ-2Ob23WdKU"
      }
    },
    {
      "cell_type": "code",
      "source": [
        "#pip install fbprophet"
      ],
      "metadata": {
        "id": "NPrACQXALXHn"
      },
      "execution_count": null,
      "outputs": []
    },
    {
      "cell_type": "code",
      "source": [
        "from fbprophet import Prophet \n",
        "from fbprophet.plot import add_changepoints_to_plot"
      ],
      "metadata": {
        "id": "k9WZOFViLXKm"
      },
      "execution_count": null,
      "outputs": []
    },
    {
      "cell_type": "code",
      "source": [
        "df = df[df['region'] == 'California']\n",
        "df['Date'] = df['Date'].str[:-3] \n",
        "df = df[df['type'] == 'organic']"
      ],
      "metadata": {
        "id": "uQUazktPLXNv"
      },
      "execution_count": null,
      "outputs": []
    },
    {
      "cell_type": "code",
      "source": [
        "agg = {'AveragePrice': 'mean'}\n",
        "data = df.groupby(df['Date']).aggregate(agg).reset_index()\n",
        "data.head()"
      ],
      "metadata": {
        "id": "S1wUdUJQLXQY"
      },
      "execution_count": null,
      "outputs": []
    },
    {
      "cell_type": "code",
      "source": [
        "df_ts = pd.DataFrame() \n",
        "df_ts['ds'] = pd.to_datetime(data['Date']) \n",
        "df_ts['y'] = data['AveragePrice'] \n",
        "df_ts.head()"
      ],
      "metadata": {
        "id": "0T7tw9lpLXTH"
      },
      "execution_count": null,
      "outputs": []
    },
    {
      "cell_type": "code",
      "source": [
        "m = Prophet(yearly_seasonality=True, \\\n",
        "            daily_seasonality=False, weekly_seasonality=False) \n",
        "m.fit(df_ts)\n",
        "future = m.make_future_dataframe(periods=12*5, freq='M')"
      ],
      "metadata": {
        "id": "plrmcao6LXWj"
      },
      "execution_count": null,
      "outputs": []
    },
    {
      "cell_type": "code",
      "source": [
        "forecast = m.predict(future) \n",
        "forecast[['ds', 'yhat', 'yhat_lower', 'yhat_upper', 'trend', 'trend_lower', 'trend_upper']].tail()"
      ],
      "metadata": {
        "id": "vz76fn6hMDsp"
      },
      "execution_count": null,
      "outputs": []
    },
    {
      "cell_type": "code",
      "source": [
        "fig = m.plot(forecast) \n",
        "fig.show()\n",
        "a = add_changepoints_to_plot(fig.gca(), m, forecast)"
      ],
      "metadata": {
        "id": "4oBTQycOMD3O"
      },
      "execution_count": null,
      "outputs": []
    },
    {
      "cell_type": "markdown",
      "source": [
        "Interesting. So, the Prophet suggests the price of around $ 1.75 in 2019, and then the price for organic avocados will go up in California."
      ],
      "metadata": {
        "id": "Z0OPEMm3Woip"
      }
    },
    {
      "cell_type": "code",
      "source": [],
      "metadata": {
        "id": "a2gZE_srMEF6"
      },
      "execution_count": null,
      "outputs": []
    }
  ]
}