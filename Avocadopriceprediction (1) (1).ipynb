{
 "cells": [
  {
   "cell_type": "code",
   "execution_count": 10,
   "metadata": {
    "id": "DdiDLXwQJMey"
   },
   "outputs": [
    {
     "ename": "ImportError",
     "evalue": "cannot import name 'DataError' from 'pandas.core.base' (C:\\Users\\bhato\\AppData\\Roaming\\Python\\Python311\\site-packages\\pandas\\core\\base.py)",
     "output_type": "error",
     "traceback": [
      "\u001b[1;31m---------------------------------------------------------------------------\u001b[0m",
      "\u001b[1;31mImportError\u001b[0m                               Traceback (most recent call last)",
      "Cell \u001b[1;32mIn [10], line 12\u001b[0m\n\u001b[0;32m     10\u001b[0m \u001b[38;5;28;01mfrom\u001b[39;00m \u001b[38;5;21;01msklearn\u001b[39;00m\u001b[38;5;21;01m.\u001b[39;00m\u001b[38;5;21;01mpreprocessing\u001b[39;00m \u001b[38;5;28;01mimport\u001b[39;00m StandardScaler\n\u001b[0;32m     11\u001b[0m \u001b[38;5;28;01mfrom\u001b[39;00m \u001b[38;5;21;01msklearn\u001b[39;00m\u001b[38;5;21;01m.\u001b[39;00m\u001b[38;5;21;01mmodel_selection\u001b[39;00m \u001b[38;5;28;01mimport\u001b[39;00m train_test_split, cross_val_score\n\u001b[1;32m---> 12\u001b[0m \u001b[38;5;28;01mimport\u001b[39;00m \u001b[38;5;21;01mpandas_profiling\u001b[39;00m \u001b[38;5;28;01mas\u001b[39;00m \u001b[38;5;21;01mpp\u001b[39;00m\n",
      "File \u001b[1;32mC:\\Program Files\\Python311\\Lib\\site-packages\\pandas_profiling\\__init__.py:6\u001b[0m\n\u001b[0;32m      1\u001b[0m \u001b[38;5;124;03m\"\"\"Main module of pandas-profiling.\u001b[39;00m\n\u001b[0;32m      2\u001b[0m \n\u001b[0;32m      3\u001b[0m \u001b[38;5;124;03m.. include:: ../../README.md\u001b[39;00m\n\u001b[0;32m      4\u001b[0m \u001b[38;5;124;03m\"\"\"\u001b[39;00m\n\u001b[1;32m----> 6\u001b[0m \u001b[38;5;28;01mfrom\u001b[39;00m \u001b[38;5;21;01mpandas_profiling\u001b[39;00m\u001b[38;5;21;01m.\u001b[39;00m\u001b[38;5;21;01mcontroller\u001b[39;00m \u001b[38;5;28;01mimport\u001b[39;00m pandas_decorator\n\u001b[0;32m      7\u001b[0m \u001b[38;5;28;01mfrom\u001b[39;00m \u001b[38;5;21;01mpandas_profiling\u001b[39;00m\u001b[38;5;21;01m.\u001b[39;00m\u001b[38;5;21;01mprofile_report\u001b[39;00m \u001b[38;5;28;01mimport\u001b[39;00m ProfileReport\n\u001b[0;32m      8\u001b[0m \u001b[38;5;28;01mfrom\u001b[39;00m \u001b[38;5;21;01mpandas_profiling\u001b[39;00m\u001b[38;5;21;01m.\u001b[39;00m\u001b[38;5;21;01mversion\u001b[39;00m \u001b[38;5;28;01mimport\u001b[39;00m __version__\n",
      "File \u001b[1;32mC:\\Program Files\\Python311\\Lib\\site-packages\\pandas_profiling\\controller\\pandas_decorator.py:4\u001b[0m\n\u001b[0;32m      1\u001b[0m \u001b[38;5;124;03m\"\"\"This file add the decorator on the DataFrame object.\"\"\"\u001b[39;00m\n\u001b[0;32m      2\u001b[0m \u001b[38;5;28;01mfrom\u001b[39;00m \u001b[38;5;21;01mpandas\u001b[39;00m \u001b[38;5;28;01mimport\u001b[39;00m DataFrame\n\u001b[1;32m----> 4\u001b[0m \u001b[38;5;28;01mfrom\u001b[39;00m \u001b[38;5;21;01mpandas_profiling\u001b[39;00m\u001b[38;5;21;01m.\u001b[39;00m\u001b[38;5;21;01mprofile_report\u001b[39;00m \u001b[38;5;28;01mimport\u001b[39;00m ProfileReport\n\u001b[0;32m      7\u001b[0m \u001b[38;5;28;01mdef\u001b[39;00m \u001b[38;5;21mprofile_report\u001b[39m(df: DataFrame, \u001b[38;5;241m*\u001b[39m\u001b[38;5;241m*\u001b[39mkwargs) \u001b[38;5;241m-\u001b[39m\u001b[38;5;241m>\u001b[39m ProfileReport:\n\u001b[0;32m      8\u001b[0m     \u001b[38;5;124;03m\"\"\"Profile a DataFrame.\u001b[39;00m\n\u001b[0;32m      9\u001b[0m \n\u001b[0;32m     10\u001b[0m \u001b[38;5;124;03m    Args:\u001b[39;00m\n\u001b[1;32m   (...)\u001b[0m\n\u001b[0;32m     15\u001b[0m \u001b[38;5;124;03m        A ProfileReport of the DataFrame.\u001b[39;00m\n\u001b[0;32m     16\u001b[0m \u001b[38;5;124;03m    \"\"\"\u001b[39;00m\n",
      "File \u001b[1;32mC:\\Program Files\\Python311\\Lib\\site-packages\\pandas_profiling\\profile_report.py:15\u001b[0m\n\u001b[0;32m     13\u001b[0m \u001b[38;5;28;01mfrom\u001b[39;00m \u001b[38;5;21;01mpandas_profiling\u001b[39;00m\u001b[38;5;21;01m.\u001b[39;00m\u001b[38;5;21;01mconfig\u001b[39;00m \u001b[38;5;28;01mimport\u001b[39;00m Config, Settings\n\u001b[0;32m     14\u001b[0m \u001b[38;5;28;01mfrom\u001b[39;00m \u001b[38;5;21;01mpandas_profiling\u001b[39;00m\u001b[38;5;21;01m.\u001b[39;00m\u001b[38;5;21;01mexpectations_report\u001b[39;00m \u001b[38;5;28;01mimport\u001b[39;00m ExpectationsReport\n\u001b[1;32m---> 15\u001b[0m \u001b[38;5;28;01mfrom\u001b[39;00m \u001b[38;5;21;01mpandas_profiling\u001b[39;00m\u001b[38;5;21;01m.\u001b[39;00m\u001b[38;5;21;01mmodel\u001b[39;00m\u001b[38;5;21;01m.\u001b[39;00m\u001b[38;5;21;01malerts\u001b[39;00m \u001b[38;5;28;01mimport\u001b[39;00m AlertType\n\u001b[0;32m     16\u001b[0m \u001b[38;5;28;01mfrom\u001b[39;00m \u001b[38;5;21;01mpandas_profiling\u001b[39;00m\u001b[38;5;21;01m.\u001b[39;00m\u001b[38;5;21;01mmodel\u001b[39;00m\u001b[38;5;21;01m.\u001b[39;00m\u001b[38;5;21;01mdescribe\u001b[39;00m \u001b[38;5;28;01mimport\u001b[39;00m describe \u001b[38;5;28;01mas\u001b[39;00m describe_df\n\u001b[0;32m     17\u001b[0m \u001b[38;5;28;01mfrom\u001b[39;00m \u001b[38;5;21;01mpandas_profiling\u001b[39;00m\u001b[38;5;21;01m.\u001b[39;00m\u001b[38;5;21;01mmodel\u001b[39;00m\u001b[38;5;21;01m.\u001b[39;00m\u001b[38;5;21;01msample\u001b[39;00m \u001b[38;5;28;01mimport\u001b[39;00m Sample\n",
      "File \u001b[1;32mC:\\Program Files\\Python311\\Lib\\site-packages\\pandas_profiling\\model\\alerts.py:10\u001b[0m\n\u001b[0;32m      7\u001b[0m \u001b[38;5;28;01mimport\u001b[39;00m \u001b[38;5;21;01mpandas\u001b[39;00m \u001b[38;5;28;01mas\u001b[39;00m \u001b[38;5;21;01mpd\u001b[39;00m\n\u001b[0;32m      9\u001b[0m \u001b[38;5;28;01mfrom\u001b[39;00m \u001b[38;5;21;01mpandas_profiling\u001b[39;00m\u001b[38;5;21;01m.\u001b[39;00m\u001b[38;5;21;01mconfig\u001b[39;00m \u001b[38;5;28;01mimport\u001b[39;00m Settings\n\u001b[1;32m---> 10\u001b[0m \u001b[38;5;28;01mfrom\u001b[39;00m \u001b[38;5;21;01mpandas_profiling\u001b[39;00m\u001b[38;5;21;01m.\u001b[39;00m\u001b[38;5;21;01mmodel\u001b[39;00m\u001b[38;5;21;01m.\u001b[39;00m\u001b[38;5;21;01mcorrelations\u001b[39;00m \u001b[38;5;28;01mimport\u001b[39;00m perform_check_correlation\n\u001b[0;32m     13\u001b[0m \u001b[38;5;129m@unique\u001b[39m\n\u001b[0;32m     14\u001b[0m \u001b[38;5;28;01mclass\u001b[39;00m \u001b[38;5;21;01mAlertType\u001b[39;00m(Enum):\n\u001b[0;32m     15\u001b[0m     \u001b[38;5;124;03m\"\"\"Alert types\"\"\"\u001b[39;00m\n",
      "File \u001b[1;32mC:\\Program Files\\Python311\\Lib\\site-packages\\pandas_profiling\\model\\correlations.py:8\u001b[0m\n\u001b[0;32m      6\u001b[0m \u001b[38;5;28;01mimport\u001b[39;00m \u001b[38;5;21;01mpandas\u001b[39;00m \u001b[38;5;28;01mas\u001b[39;00m \u001b[38;5;21;01mpd\u001b[39;00m\n\u001b[0;32m      7\u001b[0m \u001b[38;5;28;01mfrom\u001b[39;00m \u001b[38;5;21;01mmultimethod\u001b[39;00m \u001b[38;5;28;01mimport\u001b[39;00m multimethod\n\u001b[1;32m----> 8\u001b[0m \u001b[38;5;28;01mfrom\u001b[39;00m \u001b[38;5;21;01mpandas\u001b[39;00m\u001b[38;5;21;01m.\u001b[39;00m\u001b[38;5;21;01mcore\u001b[39;00m\u001b[38;5;21;01m.\u001b[39;00m\u001b[38;5;21;01mbase\u001b[39;00m \u001b[38;5;28;01mimport\u001b[39;00m DataError\n\u001b[0;32m     10\u001b[0m \u001b[38;5;28;01mfrom\u001b[39;00m \u001b[38;5;21;01mpandas_profiling\u001b[39;00m\u001b[38;5;21;01m.\u001b[39;00m\u001b[38;5;21;01mconfig\u001b[39;00m \u001b[38;5;28;01mimport\u001b[39;00m Settings\n\u001b[0;32m     13\u001b[0m \u001b[38;5;28;01mclass\u001b[39;00m \u001b[38;5;21;01mCorrelation\u001b[39;00m:\n",
      "\u001b[1;31mImportError\u001b[0m: cannot import name 'DataError' from 'pandas.core.base' (C:\\Users\\bhato\\AppData\\Roaming\\Python\\Python311\\site-packages\\pandas\\core\\base.py)"
     ]
    }
   ],
   "source": [
    "import numpy as np\n",
    "import pandas as pd\n",
    "import seaborn as sns \n",
    "\n",
    "import matplotlib.pyplot as plt\n",
    "import seaborn as sns\n",
    "%matplotlib inline\n",
    "\n",
    "from sklearn.pipeline import Pipeline\n",
    "from sklearn.preprocessing import StandardScaler\n",
    "from sklearn.model_selection import train_test_split, cross_val_score\n",
    "import pandas_profiling as pp"
   ]
  },
  {
   "cell_type": "code",
   "execution_count": null,
   "metadata": {},
   "outputs": [],
   "source": []
  },
  {
   "cell_type": "code",
   "execution_count": 8,
   "metadata": {
    "id": "O4OGd5tvKFvJ"
   },
   "outputs": [],
   "source": [
    "\n",
    "\n",
    "import os\n",
    "for dirname, _, filenames in os.walk('/kaggle/input'):\n",
    "    for filename in filenames:\n",
    "        print(os.path.join(dirname, filename))\n"
   ]
  },
  {
   "cell_type": "code",
   "execution_count": 9,
   "metadata": {
    "colab": {
     "base_uri": "https://localhost:8080/",
     "height": 130
    },
    "id": "W64KzrxGKV1a",
    "outputId": "f8b5c591-a0bb-4129-9c43-80b37e4c83e6"
   },
   "outputs": [
    {
     "ename": "SyntaxError",
     "evalue": "(unicode error) 'unicodeescape' codec can't decode bytes in position 2-3: truncated \\UXXXXXXXX escape (3257111909.py, line 1)",
     "output_type": "error",
     "traceback": [
      "\u001b[1;36m  Cell \u001b[1;32mIn [9], line 1\u001b[1;36m\u001b[0m\n\u001b[1;33m    df = pd.read_csv(\"C:\\Users\\bhato\\Downloads\\avocado.csv\")\u001b[0m\n\u001b[1;37m                                                           ^\u001b[0m\n\u001b[1;31mSyntaxError\u001b[0m\u001b[1;31m:\u001b[0m (unicode error) 'unicodeescape' codec can't decode bytes in position 2-3: truncated \\UXXXXXXXX escape\n"
     ]
    }
   ],
   "source": [
    "df = pd.read_csv(\"C:\\Users\\bhato\\Downloads\\avocado.csv\")"
   ]
  },
  {
   "cell_type": "markdown",
   "metadata": {
    "id": "KAdNNVrRVHWb"
   },
   "source": [
    "DATA OVERVIEW"
   ]
  },
  {
   "cell_type": "code",
   "execution_count": 5,
   "metadata": {
    "colab": {
     "base_uri": "https://localhost:8080/",
     "height": 165
    },
    "id": "Z2GL7BnrKWEg",
    "outputId": "487a04db-3b7b-4c46-82f6-a51daa34b456"
   },
   "outputs": [
    {
     "ename": "NameError",
     "evalue": "ignored",
     "output_type": "error",
     "traceback": [
      "\u001b[0;31m---------------------------------------------------------------------------\u001b[0m",
      "\u001b[0;31mNameError\u001b[0m                                 Traceback (most recent call last)",
      "\u001b[0;32m<ipython-input-5-8c43c9c05b79>\u001b[0m in \u001b[0;36m<module>\u001b[0;34m\u001b[0m\n\u001b[0;32m----> 1\u001b[0;31m \u001b[0mpp\u001b[0m\u001b[0;34m.\u001b[0m\u001b[0mProfileReport\u001b[0m\u001b[0;34m(\u001b[0m\u001b[0mdf\u001b[0m\u001b[0;34m)\u001b[0m\u001b[0;34m\u001b[0m\u001b[0;34m\u001b[0m\u001b[0m\n\u001b[0m",
      "\u001b[0;31mNameError\u001b[0m: name 'df' is not defined"
     ]
    }
   ],
   "source": [
    "pp.ProfileReport(df)"
   ]
  },
  {
   "cell_type": "markdown",
   "metadata": {
    "id": "Rx6OR4CIUy17"
   },
   "source": [
    "DATA PREPROCESSING"
   ]
  },
  {
   "cell_type": "code",
   "execution_count": null,
   "metadata": {
    "id": "Vkk2fGjDKWHR"
   },
   "outputs": [],
   "source": [
    "df = df.drop('Unnamed: 0', axis=1)"
   ]
  },
  {
   "cell_type": "code",
   "execution_count": null,
   "metadata": {
    "id": "Jv2NkofDKWKm"
   },
   "outputs": [],
   "source": [
    "df"
   ]
  },
  {
   "cell_type": "markdown",
   "metadata": {
    "id": "L-7W-Ro-VUDM"
   },
   "source": [
    "As there are two types of avocados, let's see the price distribution of each one"
   ]
  },
  {
   "cell_type": "code",
   "execution_count": null,
   "metadata": {
    "id": "Ac0bfcSIKWNu"
   },
   "outputs": [],
   "source": [
    "import plotly.express as px\n",
    "#conventional = df[df['type'] == 'conventional']\n",
    "#organic = df[df['type'] == 'organic']\n",
    "\n",
    "fig = px.histogram(df, x='AveragePrice', color='type',\n",
    "                   marginal='box', # or violin, rug\n",
    "                   hover_data=df.columns)\n",
    "\n",
    "\n",
    "fig.show()"
   ]
  },
  {
   "cell_type": "markdown",
   "metadata": {
    "id": "t1drvbGnVZVN"
   },
   "source": [
    "So, on average, organic avocados are more expensive (as expected).\n",
    "\n",
    "Let's also check whether geography influences the price.\n",
    "\n"
   ]
  },
  {
   "cell_type": "code",
   "execution_count": null,
   "metadata": {
    "id": "qr_YGyhOKWQr"
   },
   "outputs": [],
   "source": [
    "fig = px.box(df, x='region', y='AveragePrice')\n",
    "fig.show()"
   ]
  },
  {
   "cell_type": "markdown",
   "metadata": {
    "id": "EYTWqP2FVd-a"
   },
   "source": [
    "Correlation matrix"
   ]
  },
  {
   "cell_type": "code",
   "execution_count": null,
   "metadata": {
    "id": "IblymZjgKWTS"
   },
   "outputs": [],
   "source": [
    "corr = df.corr()\n",
    "corr\n",
    "\n",
    "f, ax = plt.subplots(nrows=1, ncols=1, figsize=(12, 10))\n",
    "ax.set_title('Correlation Matrix', fontsize=16)\n",
    "\n",
    "sns.heatmap(corr, vmin=-1, vmax=1, cmap='viridis', annot=True)"
   ]
  },
  {
   "cell_type": "markdown",
   "metadata": {
    "id": "BnCF6ENJVinx"
   },
   "source": [
    "Checking for missing & duplicated data."
   ]
  },
  {
   "cell_type": "code",
   "execution_count": null,
   "metadata": {
    "id": "nhxmUUomKWWf"
   },
   "outputs": [],
   "source": [
    "df.isnull().any()"
   ]
  },
  {
   "cell_type": "code",
   "execution_count": null,
   "metadata": {
    "id": "-Qk8JQwmKWZE"
   },
   "outputs": [],
   "source": [
    "df.duplicated().any()"
   ]
  },
  {
   "cell_type": "code",
   "execution_count": null,
   "metadata": {
    "id": "dAf-KrszKWb9"
   },
   "outputs": [],
   "source": [
    "df"
   ]
  },
  {
   "cell_type": "markdown",
   "metadata": {
    "id": "dglG--NgVwzZ"
   },
   "source": [
    "Modeling"
   ]
  },
  {
   "cell_type": "code",
   "execution_count": null,
   "metadata": {
    "id": "OcBeHNAbKWei"
   },
   "outputs": [],
   "source": [
    "df1 = df.copy()\n",
    "\n",
    "#Introducing new feature = 'season'\n",
    "\n",
    "\n",
    "df1['Date'] = pd.to_datetime(df1['Date'])\n",
    "df1['month'] = df1['Date'].dt.month\n",
    "\n",
    "conditions = [(df1['month'].between(3,5,inclusive=True)),\n",
    "           (df1['month'].between(6,8,inclusive=True)),\n",
    "           (df1['month'].between(9,11,inclusive=True)),\n",
    "           (df1['month'].between(12,2,inclusive=True))]\n",
    "\n",
    "values = [0,1,2,3]\n",
    "#spring = 0, summer = 1, fall = 2, winter = 3\n",
    "df1['seasons'] = np.select(conditions, values)\n",
    "\n",
    "\n",
    "#encoding labels for 'type'\n",
    "\n",
    "from sklearn.preprocessing import LabelEncoder\n",
    "le = LabelEncoder()\n",
    "df1['type'] = le.fit_transform(df1['type'])\n",
    "\n",
    "# and region (One Hot Encoding instead of labelizing)\n",
    "ohe = pd.get_dummies(data=df1, columns=['region'])\n",
    "\n",
    "\n",
    "X = ohe.drop(['AveragePrice','Date','4046','4225','4770','Small Bags','Large Bags','XLarge Bags'], axis=1)\n",
    "y = df1['AveragePrice']"
   ]
  },
  {
   "cell_type": "code",
   "execution_count": null,
   "metadata": {
    "id": "c7NmvomnKWhW"
   },
   "outputs": [],
   "source": [
    "X_train, X_test, y_train, y_test = train_test_split(X, y, test_size=0.33, random_state=0)"
   ]
  },
  {
   "cell_type": "code",
   "execution_count": null,
   "metadata": {
    "id": "BZs3RuRZKWkP"
   },
   "outputs": [],
   "source": [
    "X_train"
   ]
  },
  {
   "cell_type": "code",
   "execution_count": null,
   "metadata": {
    "id": "AV5W3E5aKWnb"
   },
   "outputs": [],
   "source": [
    "from sklearn.linear_model import LinearRegression\n",
    "from sklearn.metrics import r2_score\n",
    "\n",
    "pipe0 = Pipeline([('scaler', StandardScaler()), ('lr', LinearRegression())])\n",
    "pipe0.fit(X_train, y_train)\n",
    "y_pred0 = pipe0.predict(X_test)\n",
    "r2_score(y_test, y_pred0)"
   ]
  },
  {
   "cell_type": "code",
   "execution_count": null,
   "metadata": {
    "id": "eVzWo7PMKWp9"
   },
   "outputs": [],
   "source": [
    "from sklearn.ensemble import RandomForestRegressor\n",
    "from sklearn.metrics import r2_score\n",
    "\n",
    "pipe = Pipeline([('scaler', StandardScaler()), ('rf', RandomForestRegressor())])\n",
    "pipe.fit(X_train, y_train)\n",
    "y_pred = pipe.predict(X_test)\n",
    "r2_score(y_test, y_pred)"
   ]
  },
  {
   "cell_type": "code",
   "execution_count": null,
   "metadata": {
    "id": "oqULXQBgKWsv"
   },
   "outputs": [],
   "source": [
    "from xgboost import XGBRegressor\n",
    "\n",
    "pipe2 = Pipeline([('scaler', StandardScaler()), ('xgb', XGBRegressor())])\n",
    "pipe2.fit(X_train, y_train)\n",
    "y_pred2 = pipe2.predict(X_test)\n",
    "r2_score(y_test, y_pred2)"
   ]
  },
  {
   "cell_type": "markdown",
   "metadata": {
    "id": "hFXa2iAnV3Oe"
   },
   "source": [
    "Apparently, the best model is the one with boosting (XGB)."
   ]
  },
  {
   "cell_type": "code",
   "execution_count": null,
   "metadata": {
    "id": "9ym8yf4pKWvq"
   },
   "outputs": [],
   "source": [
    "pd.DataFrame(pipe2['xgb'].feature_importances_, index=X_train.columns, columns=['Feature Importances'])"
   ]
  },
  {
   "cell_type": "markdown",
   "metadata": {
    "id": "RM4gnxesWARl"
   },
   "source": [
    "So, avocado type accounts for 86% of the price prediction.\n",
    "\n",
    "PLEASE NOTE! This is a historical analysis, and does not actually produce real-life value for the avocado market analysis. A predictory model will be built further on.\n",
    "\n",
    "We have a plenty of features now, due to the presence of dummies. Let's see if we can do dimensiality reduction and preserve the R2 score."
   ]
  },
  {
   "cell_type": "code",
   "execution_count": null,
   "metadata": {
    "id": "iLq3PAIvKWyP"
   },
   "outputs": [],
   "source": [
    "from sklearn.decomposition import PCA\n",
    "pca = PCA(n_components=6)\n",
    "\n",
    "X_train_cut, X_test_cut, y_train_cut, y_test_cut = train_test_split(pca.fit_transform(X), y, test_size=0.33, random_state=0)\n",
    "\n",
    "\n",
    "from xgboost import XGBRegressor\n",
    "\n",
    "pipe3 = Pipeline([('scaler', StandardScaler()), ('xgb', XGBRegressor())])\n",
    "pipe3.fit(X_train_cut, y_train_cut)\n",
    "y_pred3 = pipe3.predict(X_test_cut)\n",
    "r2_score(y_test_cut, y_pred3)"
   ]
  },
  {
   "cell_type": "markdown",
   "metadata": {
    "id": "5rgaIrRUWLld"
   },
   "source": [
    "So, by reducing the number of features we sacrifice ~15% R2. Luckily, the dataset is not that huge and we have the option to stay with the initial number of feature. Anyway, PCA is a very good exercise\n",
    "\n",
    "Prediction for the next year\n",
    "For this part of the notebook, I will use 2 techniques:\n",
    "\n",
    "Build a simple linear model using scipy.\n",
    "Use FB prophet package and see what the result will be.\n",
    "Building a simple linear model"
   ]
  },
  {
   "cell_type": "code",
   "execution_count": null,
   "metadata": {
    "id": "QdTOyUAfKW1I"
   },
   "outputs": [],
   "source": [
    "df = pd.read_csv(\"C:\\Users\\bhato\\Downloads\\avocado.csv\")"
   ]
  },
  {
   "cell_type": "code",
   "execution_count": null,
   "metadata": {
    "id": "-z78Q5_PKW3d"
   },
   "outputs": [],
   "source": [
    "df2 = df[df['region'] == 'California'].drop(['Date','region'], axis=1)\n",
    "df2 = df2[df['type'] == 'organic']"
   ]
  },
  {
   "cell_type": "code",
   "execution_count": null,
   "metadata": {
    "id": "UwbMRrs_LXEr"
   },
   "outputs": [],
   "source": [
    "from scipy import stats\n",
    "\n",
    "X_lin = df2['year'].reset_index(drop=True)\n",
    "y_lin = df2['AveragePrice'].reset_index(drop=True)\n",
    "\n",
    "\n",
    "slope, intercept, r, p, std_err = stats.linregress(X_lin, y_lin) # scipy\n",
    "\n",
    "def prediction(x):\n",
    "  return slope * x + intercept\n",
    "\n",
    "name = 'Avg. Avocado price (organic) in 2019'\n",
    "md = list(map(prediction, X_lin)) # scipy\n",
    "\n",
    "X_pred_lin = 2019\n",
    "y_pred_lin = prediction(X_pred_lin)\n",
    "\n",
    "print('Predicted avicado price in California in 2019 is: %f USD' % y_pred_lin)\n",
    "\n",
    "X_lin2 = X_lin.append(pd.Series(X_pred_lin))\n",
    "y_lin2 = y_lin.append(pd.Series(y_pred_lin))\n",
    "md2 = list(map(prediction, X_lin2)) \n",
    "\n",
    "plt.scatter(X_lin2, y_lin2) # Scatter Plot\n",
    "plt.plot(X_lin2, md2, color='green')\n",
    "plt.xticks(np.arange(min(X_lin2), max(X_lin2+1), 1.0))\n",
    "plt.show()\n",
    "\n",
    "#plt.ylim(ymin=0) # starts at zero\n",
    "#plt.legend(['Model Prediction using Linear Regression', 'Avocado Prices (2015-2018)'])\n",
    "#plt.show()"
   ]
  },
  {
   "cell_type": "markdown",
   "metadata": {
    "id": "bJ-2Ob23WdKU"
   },
   "source": [
    "Using FB Prophet"
   ]
  },
  {
   "cell_type": "code",
   "execution_count": null,
   "metadata": {
    "id": "NPrACQXALXHn"
   },
   "outputs": [],
   "source": [
    "#pip install fbprophet"
   ]
  },
  {
   "cell_type": "code",
   "execution_count": null,
   "metadata": {
    "id": "k9WZOFViLXKm"
   },
   "outputs": [],
   "source": [
    "from fbprophet import Prophet \n",
    "from fbprophet.plot import add_changepoints_to_plot"
   ]
  },
  {
   "cell_type": "code",
   "execution_count": null,
   "metadata": {
    "id": "uQUazktPLXNv"
   },
   "outputs": [],
   "source": [
    "df = df[df['region'] == 'California']\n",
    "df['Date'] = df['Date'].str[:-3] \n",
    "df = df[df['type'] == 'organic']"
   ]
  },
  {
   "cell_type": "code",
   "execution_count": null,
   "metadata": {
    "id": "S1wUdUJQLXQY"
   },
   "outputs": [],
   "source": [
    "agg = {'AveragePrice': 'mean'}\n",
    "data = df.groupby(df['Date']).aggregate(agg).reset_index()\n",
    "data.head()"
   ]
  },
  {
   "cell_type": "code",
   "execution_count": null,
   "metadata": {
    "id": "0T7tw9lpLXTH"
   },
   "outputs": [],
   "source": [
    "df_ts = pd.DataFrame() \n",
    "df_ts['ds'] = pd.to_datetime(data['Date']) \n",
    "df_ts['y'] = data['AveragePrice'] \n",
    "df_ts.head()"
   ]
  },
  {
   "cell_type": "code",
   "execution_count": null,
   "metadata": {
    "id": "plrmcao6LXWj"
   },
   "outputs": [],
   "source": [
    "m = Prophet(yearly_seasonality=True, \\\n",
    "            daily_seasonality=False, weekly_seasonality=False) \n",
    "m.fit(df_ts)\n",
    "future = m.make_future_dataframe(periods=12*5, freq='M')"
   ]
  },
  {
   "cell_type": "code",
   "execution_count": null,
   "metadata": {
    "id": "vz76fn6hMDsp"
   },
   "outputs": [],
   "source": [
    "forecast = m.predict(future) \n",
    "forecast[['ds', 'yhat', 'yhat_lower', 'yhat_upper', 'trend', 'trend_lower', 'trend_upper']].tail()"
   ]
  },
  {
   "cell_type": "code",
   "execution_count": null,
   "metadata": {
    "id": "4oBTQycOMD3O"
   },
   "outputs": [],
   "source": [
    "fig = m.plot(forecast) \n",
    "fig.show()\n",
    "a = add_changepoints_to_plot(fig.gca(), m, forecast)"
   ]
  },
  {
   "cell_type": "markdown",
   "metadata": {
    "id": "Z0OPEMm3Woip"
   },
   "source": [
    "Interesting. So, the Prophet suggests the price of around $ 1.75 in 2019, and then the price for organic avocados will go up in California."
   ]
  },
  {
   "cell_type": "code",
   "execution_count": null,
   "metadata": {
    "id": "a2gZE_srMEF6"
   },
   "outputs": [],
   "source": []
  }
 ],
 "metadata": {
  "colab": {
   "provenance": []
  },
  "kernelspec": {
   "display_name": "Python 3 (ipykernel)",
   "language": "python",
   "name": "python3"
  },
  "language_info": {
   "codemirror_mode": {
    "name": "ipython",
    "version": 3
   },
   "file_extension": ".py",
   "mimetype": "text/x-python",
   "name": "python",
   "nbconvert_exporter": "python",
   "pygments_lexer": "ipython3",
   "version": "3.11.0"
  }
 },
 "nbformat": 4,
 "nbformat_minor": 1
}
